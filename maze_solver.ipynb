{
  "cells": [
    {
      "cell_type": "code",
      "execution_count": null,
      "metadata": {
        "colab": {},
        "colab_type": "code",
        "id": "4KNByPketXyH"
      },
      "outputs": [],
      "source": [
        "import cv2\n",
        "import numpy as np\n",
        "import matplotlib.pyplot as plt\n",
        "import copy\n",
        "import torch"
      ]
    },
    {
      "cell_type": "code",
      "execution_count": null,
      "metadata": {
        "colab": {},
        "colab_type": "code",
        "id": "mevIg6XutfOO"
      },
      "outputs": [],
      "source": [
        "#img11=cv2.imread(\"maze00.jpg\")\n",
        "img22=cv2.imread(\"maze00.jpg\",0)"
      ]
    },
    {
      "cell_type": "code",
      "execution_count": null,
      "metadata": {
        "colab": {},
        "colab_type": "code",
        "id": "uji3DjtguiUH"
      },
      "outputs": [],
      "source": [
        "def image_normalize(img):\n",
        "  #sum_=np.sum(img,2)\n",
        "  sum_=img\n",
        "  for i,j in enumerate(sum_):\n",
        "    for k,l in enumerate(j):\n",
        "      if(l>100):\n",
        "        sum_[i][k]=1\n",
        "      else:\n",
        "        sum_[i][k]=0\n",
        "  \"\"\"\n",
        "  sum_[:padding,:]=1\n",
        "  sum_[:,:padding]=1\n",
        "  sum_[-padding:,:]=1\n",
        "  sum_[:,-padding:]=1\n",
        "  \"\"\"\n",
        "  return sum_#Removing padding"
      ]
    },
    {
      "cell_type": "code",
      "execution_count": null,
      "metadata": {
        "colab": {},
        "colab_type": "code",
        "id": "tCirL2pp3yVG"
      },
      "outputs": [],
      "source": [
        "#img1=image_normalize(img11)\n",
        "img2=image_normalize(img22)"
      ]
    },
    {
      "cell_type": "code",
      "execution_count": 5,
      "metadata": {
        "colab": {
          "base_uri": "https://localhost:8080/",
          "height": 286
        },
        "colab_type": "code",
        "id": "kKPn-OXIcC0_",
        "outputId": "673942c0-4d3b-4cb8-d543-f701c6d68b64"
      },
      "outputs": [
        {
          "data": {
            "text/plain": [
              "<matplotlib.image.AxesImage at 0x7fb310024320>"
            ]
          },
          "execution_count": 5,
          "metadata": {
            "tags": []
          },
          "output_type": "execute_result"
        },
        {
          "data": {
            "image/png": "[encoded data removed]",
            "text/plain": [
              "<Figure size 432x288 with 1 Axes>"
            ]
          },
          "metadata": {
            "tags": []
          },
          "output_type": "display_data"
        }
      ],
      "source": [
        "plt.imshow(img2)"
      ]
    },
    {
      "cell_type": "code",
      "execution_count": 6,
      "metadata": {
        "colab": {
          "base_uri": "https://localhost:8080/",
          "height": 34
        },
        "colab_type": "code",
        "id": "FxM20mnHYnKC",
        "outputId": "4088cd88-fc99-4b73-ad28-b174aa171cf9"
      },
      "outputs": [
        {
          "data": {
            "text/plain": [
              "(200, 200)"
            ]
          },
          "execution_count": 6,
          "metadata": {
            "tags": []
          },
          "output_type": "execute_result"
        }
      ],
      "source": [
        "img22.shape"
      ]
    },
    {
      "cell_type": "code",
      "execution_count": null,
      "metadata": {
        "colab": {},
        "colab_type": "code",
        "id": "FTbxpABir_x_"
      },
      "outputs": [],
      "source": [
        "image_sample=img2"
      ]
    },
    {
      "cell_type": "code",
      "execution_count": null,
      "metadata": {
        "colab": {},
        "colab_type": "code",
        "id": "ROb5vwe2e7L-"
      },
      "outputs": [],
      "source": [
        "img=copy.deepcopy(image_sample)\n",
        "start=(0,0)\n",
        "end=(9,9)\n",
        "cell_size=20\n",
        "mark=2\n",
        "padding=2\n",
        "change=[(1,0),(-1,0),(0,1),(0,-1)]\n",
        "total_size_coordinates=(img.shape[0]//cell_size,img.shape[1]//cell_size)\n",
        "traced_path=np.zeros(total_size_coordinates)\n",
        "number_matrix=np.zeros(total_size_coordinates)\n",
        "number_id=np.zeros(total_size_coordinates)"
      ]
    },
    {
      "cell_type": "code",
      "execution_count": null,
      "metadata": {
        "colab": {},
        "colab_type": "code",
        "id": "qW-WO4fIawxM"
      },
      "outputs": [],
      "source": [
        "def repm(img,coordinate,fill=None,path_print=False,pad=2):\n",
        "  actual_pos=tuple(map(lambda x:x*cell_size,coordinate))\n",
        "  if fill is None:\n",
        "    return img[actual_pos[0]:actual_pos[0]+cell_size,actual_pos[1]:actual_pos[1]+cell_size]\n",
        "  if path_print:\n",
        "    img[actual_pos[0]+pad:actual_pos[0]+cell_size-pad,actual_pos[1]+pad:actual_pos[1]+cell_size-pad]=fill\n",
        "  else:\n",
        "    traced_path[coordinate[0],coordinate[1]]=fill\n",
        "  "
      ]
    },
    {
      "cell_type": "code",
      "execution_count": null,
      "metadata": {
        "colab": {},
        "colab_type": "code",
        "id": "ibo7bsDkOMdC"
      },
      "outputs": [],
      "source": [
        "def find_direction(current):\n",
        "  direction=[]\n",
        "  CELL_SIZE=cell_size\n",
        "  #Down\n",
        "  if 0 not in current[CELL_SIZE//2:,CELL_SIZE//2]:\n",
        "          #Check down center for 0's\n",
        "    direction.append(0)\n",
        "  #Up\n",
        "  if 0 not in current[:CELL_SIZE//2,CELL_SIZE//2]:\n",
        "    direction.append(1)\n",
        "  #Right\n",
        "  if 0 not in current[CELL_SIZE//2,CELL_SIZE//2:]:\n",
        "    direction.append(2)\n",
        "  #Left\n",
        "  if 0 not in current[CELL_SIZE//2,:CELL_SIZE//2]:\n",
        "    direction.append(3)\n",
        "\n",
        "  return direction"
      ]
    },
    {
      "cell_type": "code",
      "execution_count": null,
      "metadata": {
        "colab": {},
        "colab_type": "code",
        "id": "oAA0w1RN8yYs"
      },
      "outputs": [],
      "source": [
        "def flood(img,coordinate,mark,start):\n",
        "  #We have to fill from end to start\n",
        "  \"\"\"\n",
        "  if coordinate==start:\n",
        "    current=repm(img,coordinate)\n",
        "    if((1 in current)and((traced_path[coordinate[0],coordinate[1]]>mark)or(traced_path[coordinate[0],coordinate[1]]==0))):\n",
        "      repm(img,coordinate,mark)\n",
        "    return 1\n",
        "  \"\"\"\n",
        "  current=repm(img,coordinate)\n",
        "  if((1 in current)and((traced_path[coordinate[0],coordinate[1]]>mark)or(traced_path[coordinate[0],coordinate[1]]==0))):\n",
        "    repm(img,coordinate,mark)\n",
        "  else:\n",
        "    return 1\n",
        "\n",
        "  direction=find_direction(current)\n",
        "  if coordinate==(7,3):\n",
        "    pass\n",
        "    print(coordinate)\n",
        "    print(current)\n",
        "    print(direction)\n",
        "  for i in direction:\n",
        "    flood(img,(coordinate[0]+change[i][0],coordinate[1]+change[i][1]),mark+1,start)#All posibble direction"
      ]
    },
    {
      "cell_type": "code",
      "execution_count": null,
      "metadata": {
        "colab": {},
        "colab_type": "code",
        "id": "vwzrNFXPFF0t"
      },
      "outputs": [],
      "source": [
        "def identify(model,img):\n",
        "  for i in range(number_id.shape[0]):\n",
        "    for j in range(number_id.shape[1]):\n",
        "      img_slice=repm(img,(i,j))\n",
        "      out_array=model(img_slice)\n",
        "      number=out_array.argmax()\n",
        "      if out_array[number]>0.5:\n",
        "        number_id[i][j]=1\n",
        "        number_matrix[i][j]=number"
      ]
    },
    {
      "cell_type": "code",
      "execution_count": 22,
      "metadata": {
        "colab": {
          "base_uri": "https://localhost:8080/",
          "height": 391
        },
        "colab_type": "code",
        "id": "xPdYo00bhoaB",
        "outputId": "cee17442-5d20-4ec2-9a9c-2b3c32290597"
      },
      "outputs": [
        {
          "name": "stdout",
          "output_type": "stream",
          "text": [
            "(7, 3)\n",
            "[[0 0 0 0 0 0 0 0 0 0 0 0 0 0 0 0 0 0 0 0]\n",
            " [0 0 0 0 0 0 0 0 0 0 0 0 0 0 0 0 0 0 0 0]\n",
            " [1 1 1 1 1 1 1 1 1 1 1 1 1 1 1 1 1 1 1 1]\n",
            " [1 1 1 1 1 1 1 1 1 1 1 1 1 1 1 1 1 1 1 1]\n",
            " [1 1 1 1 1 1 1 1 1 1 1 1 1 1 1 1 1 1 1 1]\n",
            " [1 1 1 1 1 1 1 1 1 1 1 1 1 1 1 1 1 1 1 1]\n",
            " [1 1 1 1 1 1 1 1 1 1 1 1 1 1 1 1 1 1 1 1]\n",
            " [1 1 1 1 1 1 1 1 1 1 1 1 1 1 1 1 1 1 1 1]\n",
            " [1 1 1 1 1 1 1 1 1 1 1 1 1 1 1 1 1 1 1 1]\n",
            " [1 1 1 1 1 1 1 1 1 1 1 1 1 1 1 1 1 1 1 1]\n",
            " [1 1 1 1 1 1 1 1 1 1 1 1 1 1 1 1 1 1 1 1]\n",
            " [1 1 1 1 1 1 1 1 1 1 1 1 1 1 1 1 1 1 1 1]\n",
            " [1 1 1 1 1 1 1 1 1 1 1 1 1 1 1 1 1 1 1 1]\n",
            " [1 1 1 1 1 1 1 1 1 1 1 1 1 1 1 1 1 1 1 1]\n",
            " [1 1 1 1 1 1 1 1 1 1 1 1 1 1 1 1 1 1 1 1]\n",
            " [1 1 1 1 1 1 1 1 1 1 1 1 1 1 1 1 1 1 1 1]\n",
            " [1 1 1 1 1 1 1 1 1 1 1 1 1 1 1 1 1 1 1 1]\n",
            " [1 1 1 1 1 1 1 1 1 1 1 1 1 1 1 1 1 1 1 1]\n",
            " [0 0 0 0 0 0 0 0 0 0 0 0 0 0 0 0 0 0 0 0]\n",
            " [0 0 0 0 0 0 0 0 0 0 0 0 0 0 0 0 0 0 0 0]]\n",
            "[2, 3]\n"
          ]
        }
      ],
      "source": [
        "img=copy.deepcopy(image_sample)\n",
        "flood(img,end,mark,start)\n",
        "#model=torch.load(\"digit_rec.pt\")\n",
        "#identifiy(model,img)"
      ]
    },
    {
      "cell_type": "code",
      "execution_count": 23,
      "metadata": {
        "colab": {
          "base_uri": "https://localhost:8080/",
          "height": 282
        },
        "colab_type": "code",
        "id": "iB2Kce6BvpIH",
        "outputId": "ba589b24-4a06-4668-a5f7-5b362796eca3"
      },
      "outputs": [
        {
          "data": {
            "text/plain": [
              "<matplotlib.image.AxesImage at 0x7fb30fac50b8>"
            ]
          },
          "execution_count": 23,
          "metadata": {
            "tags": []
          },
          "output_type": "execute_result"
        },
        {
          "data": {
            "image/png": "[encoded data removed]",
            "text/plain": [
              "<Figure size 432x288 with 1 Axes>"
            ]
          },
          "metadata": {
            "tags": []
          },
          "output_type": "display_data"
        }
      ],
      "source": [
        "#print(number_id,number_matrix)\n",
        "plt.imshow(traced_path)"
      ]
    },
    {
      "cell_type": "code",
      "execution_count": null,
      "metadata": {
        "colab": {},
        "colab_type": "code",
        "id": "1oHGnDw34v4u"
      },
      "outputs": [],
      "source": [
        "def trace(img,coordinate,end,path):\n",
        "  if coordinate==end:\n",
        "          #path.append(coordinate)\n",
        "    return path\n",
        "  #print(coordinate)\n",
        "  dire=[]\n",
        "  dirc=[]\n",
        "  current=repm(img,coordinate)\n",
        "  direction=find_direction(current)\n",
        "  for i in direction:\n",
        "    try:\n",
        "      element=traced_path[coordinate[0]+change[i][0],coordinate[1]+change[i][1]]\n",
        "      if element==0:\n",
        "        continue\n",
        "      if ((coordinate[0]+change[i][0]>=0)and(coordinate[1]+change[i][1]>=0)):\n",
        "        dire.append(element)\n",
        "        dirc.append(i)\n",
        "    except:\n",
        "      pass\n",
        "  if coordinate==(1,1):\n",
        "    print(current)\n",
        "    print(coordinate,direction,dire,dirc)\n",
        "  #down#up#left#right\n",
        "  mi=min(dire)\n",
        "  ind=dire.index(mi)\n",
        "  path.append((coordinate[0]+change[dirc[ind]][0],coordinate[1]+change[dirc[ind]][1]))\n",
        "  return trace(img,(coordinate[0]+change[dirc[ind]][0],coordinate[1]+change[dirc[ind]][1]),end,path)"
      ]
    },
    {
      "cell_type": "code",
      "execution_count": null,
      "metadata": {
        "colab": {},
        "colab_type": "code",
        "id": "fMTVkLG38YTJ"
      },
      "outputs": [],
      "source": [
        "path=[start]\n",
        "img=copy.deepcopy(image_sample)\n",
        "path=trace(img,start,end,path)"
      ]
    },
    {
      "cell_type": "code",
      "execution_count": 27,
      "metadata": {
        "colab": {
          "base_uri": "https://localhost:8080/",
          "height": 286
        },
        "colab_type": "code",
        "id": "slpH-Upop9Pq",
        "outputId": "e0499f61-e237-4c35-b88a-8b7109e01a98"
      },
      "outputs": [
        {
          "data": {
            "text/plain": [
              "<matplotlib.image.AxesImage at 0x7fb30f9eec88>"
            ]
          },
          "execution_count": 27,
          "metadata": {
            "tags": []
          },
          "output_type": "execute_result"
        },
        {
          "data": {
            "image/png": "[encoded data removed]",
            "text/plain": [
              "<Figure size 432x288 with 1 Axes>"
            ]
          },
          "metadata": {
            "tags": []
          },
          "output_type": "display_data"
        }
      ],
      "source": [
        "img_path_show=copy.deepcopy(image_sample)\n",
        "for i,j in enumerate(path):\n",
        "  repm(img_path_show,j,5,True)\n",
        "plt.imshow(img_path_show)"
      ]
    }
  ],
  "metadata": {
    "colab": {
      "collapsed_sections": [],
      "name": "maze_solver.ipynb",
      "provenance": []
    },
    "kernelspec": {
      "display_name": "Python 3",
      "name": "python3"
    },
    "language_info": {
      "name": "python",
      "version": "3.10.12"
    }
  },
  "nbformat": 4,
  "nbformat_minor": 0
}
