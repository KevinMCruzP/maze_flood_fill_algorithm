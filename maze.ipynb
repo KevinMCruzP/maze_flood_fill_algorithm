{
 "cells": [
  {
   "cell_type": "code",
   "execution_count": null,
   "metadata": {},
   "outputs": [],
   "source": [
    "# Explain all code in this file"
   ]
  },
  {
   "cell_type": "code",
   "execution_count": null,
   "metadata": {},
   "outputs": [],
   "source": [
    "# Importación de las librerías necesarias para el proyecto\n",
    "# 1. OpenCV para procesamiento de imágenes y tareas de visión por computadora\n",
    "import cv2\n",
    "\n",
    "# 2. Numpy para operaciones de matrices y arreglos\n",
    "import numpy as np\n",
    "\n",
    "# 3. Matplotlib para visualización y trazado de gráficos y diagramas\n",
    "import matplotlib.pyplot as plt\n",
    "\n",
    "# 4. Copy para copiar arreglos y matrices\n",
    "import copy"
   ]
  },
  {
   "cell_type": "code",
   "execution_count": null,
   "metadata": {},
   "outputs": [],
   "source": [
    "# Leyendo la imagen y convirtiendola a escala de grises (0-255)\n",
    "img = cv2.imread('maze00.jpg', 0)"
   ]
  },
  {
   "cell_type": "code",
   "execution_count": null,
   "metadata": {},
   "outputs": [],
   "source": [
    "# Normalizando la imagen para mejorar la detección de bordes\n",
    "def image_normalize(img):\n",
    "    sum_ = img\n",
    "\n",
    "    for i,row in enumerate(sum_):\n",
    "        for j, pixel_value in enumerate(row):\n",
    "            if pixel_value > 200:\n",
    "                sum_[i][j] = 1\n",
    "            else:\n",
    "                sum_[i][j] = 0\n",
    "\n",
    "    return sum_"
   ]
  },
  {
   "cell_type": "code",
   "execution_count": null,
   "metadata": {},
   "outputs": [],
   "source": [
    "# Muestra la imagen con el título\n",
    "def show_image_with_title(img, title):\n",
    "    plt.imshow(img, cmap='gray')\n",
    "    plt.title(title)\n",
    "    plt.show()\n",
    "\n",
    "# Imagen original\n",
    "show_image_with_title(img, 'Original Image')\n",
    "\n",
    "# Normalizando la imagen para mejorar la detección de bordes\n",
    "norm_image = image_normalize(img)\n",
    "\n",
    "# Imagen normalizada\n",
    "show_image_with_title(norm_image, 'Normalize Image')"
   ]
  },
  {
   "cell_type": "code",
   "execution_count": null,
   "metadata": {},
   "outputs": [],
   "source": [
    "# Obteniendo el tamaño de la imagen\n",
    "img.shape"
   ]
  },
  {
   "cell_type": "code",
   "execution_count": null,
   "metadata": {},
   "outputs": [],
   "source": [
    "# Variables globales\n",
    "\n",
    "# Copia de la imagen normalizada\n",
    "new_image = copy.deepcopy(norm_image)\n",
    "\n",
    "# Define los puntos de inicio y final\n",
    "start = (0,0)\n",
    "end = (9,9)\n",
    "\n",
    "# Especifica el tamaño de cada celda en la cuadrícula creada en la imagen\n",
    "cell_size = 20\n",
    "\n",
    "# Marca para los puntos de inicio y final\n",
    "mark = 2\n",
    "# Relleno para crear una cuadrícula en la imagen\n",
    "# padding = 10\n",
    "\n",
    "# Define los movimientos posibles en la imagen (arriba, abajo, izquierda, derecha)\n",
    "change = [(1,0),(-1,0),(0,1),(0,-1)]\n",
    "\n",
    "# Calcula de tamaño total de la imagen en coordenadas (filas, columnas)\n",
    "total_size_coordinates = (new_image.shape[0]//cell_size,new_image.shape[1]//cell_size)\n",
    "\n",
    "# Inicializamos una matriz de ceros para almacenar el camino trazado en la imagen (filas, columnas)\n",
    "traced_path = np.zeros(total_size_coordinates)\n",
    "\n",
    "# Crea una matriz para almacenar el número asociado con cada celda en la imagen (filas, columnas)\n",
    "number_matrix = np.zeros(total_size_coordinates)\n",
    "\n",
    "# Inicializamos una matriz para almacenar el número de cada celda en la imagen (filas, columnas)\n",
    "number_id = np.zeros(total_size_coordinates)"
   ]
  },
  {
   "cell_type": "code",
   "execution_count": null,
   "metadata": {},
   "outputs": [],
   "source": [
    "# Define una función para representar una celda en la imagen\n",
    "def repm(img, coordinate, fill=None, path_print=False, pad=4):\n",
    "\n",
    "    # Obtiene la posición actual en la imagen (fila, columna)\n",
    "    actual_pos = tuple(map(lambda x:x*cell_size, coordinate))\n",
    "\n",
    "    # si fill es None, se devuelve la imagen en la posición actual con el tamaño de la celda, sin rellenar\n",
    "    if fill is None:\n",
    "        return img[actual_pos[0]:actual_pos[0]+cell_size, actual_pos[1]:actual_pos[1]+cell_size]\n",
    "    \n",
    "    # si path_print es True, rellena la celda con el valor fill\n",
    "    # este se usa para marcar el camino trazado por el algoritmo en la imagen final del laberinto resuelto\n",
    "    if path_print:\n",
    "        img[actual_pos[0]+pad:actual_pos[0]+cell_size-pad, actual_pos[1]+pad:actual_pos[1]+cell_size-pad] = fill\n",
    "    else:\n",
    "        # En la posición actual de las coordenadas, se asigna el valor fill.\n",
    "        # Esto indica que en las ubicaciones específicas de la matriz traced_path, se asigna el valor fill.\n",
    "        # Esto indica que esa área ha sido visitada por el algoritmo.\n",
    "        # Este se usa para marcar todas las celdas visitadas por el algoritmo en la imagen final del laberinto resuelto\n",
    "        traced_path[coordinate[0], coordinate[1]] = fill"
   ]
  },
  {
   "cell_type": "code",
   "execution_count": null,
   "metadata": {},
   "outputs": [],
   "source": [
    "# Define una función para encontrar las direcciones disponibles desde la celda actual\n",
    "def find_direction(current):\n",
    "    direction = []\n",
    "    CELL_SIZE = cell_size\n",
    "\n",
    "    # Abajo\n",
    "    # Verificar el centro hacia abajo en busca de celdas con valor 0 (CELL_SIZE//2:,CELL_SIZE//2)\n",
    "    if 0 not in current[CELL_SIZE//2:,CELL_SIZE//2]:\n",
    "        direction.append(0)\n",
    "        \n",
    "     # Arriba\n",
    "    # Verificar el centro hacia arriba en busca de celdas con valor 0 (:CELL_SIZE//2,CELL_SIZE//2)\n",
    "    if 0 not in current[:CELL_SIZE//2, CELL_SIZE//2]:\n",
    "        direction.append(1)\n",
    "    \n",
    "    # Derecha\n",
    "    # Verificar el centro hacia la derecha en busca de celdas con valor 0 (CELL_SIZE//2,CELL_SIZE//2:)\n",
    "    if 0 not in current[CELL_SIZE//2, CELL_SIZE//2:]:\n",
    "        direction.append(2)\n",
    "    # Izquierda\n",
    "    # Verificar el centro hacia la izquierda en busca de celdas con valor 0 (CELL_SIZE//2:,:CELL_SIZE//2)\n",
    "    if 0 not in current[CELL_SIZE//2, :CELL_SIZE//2]:\n",
    "        direction.append(3)\n",
    "\n",
    "    return direction"
   ]
  },
  {
   "cell_type": "code",
   "execution_count": null,
   "metadata": {},
   "outputs": [],
   "source": [
    "# Función de inundación para encontrar el camino desde el punto de inicio hasta el punto final en la imagen (función recursiva)\n",
    "def flood(img, coordinate, mark, start):\n",
    "    \n",
    "    # Obtenemos la celda actual en la imagen\n",
    "    current = repm(img, coordinate)\n",
    "\n",
    "    # Si la celda actual contiene un 1, es una pared, por lo que no podemos pasar.\n",
    "    # Si la celda ya ha sido marcada con un valor mayor a \"mark\", tampoco podemos pasar.\n",
    "    if((1 in current)and((traced_path[coordinate[0],coordinate[1]]>mark)or(traced_path[coordinate[0],coordinate[1]]==0))):\n",
    "        repm(img, coordinate, mark)\n",
    "    else:\n",
    "        return 1\n",
    "    \n",
    "    # Encontrar las direcciones disponibles desde la celda actual\n",
    "    direction = find_direction(current)\n",
    "\n",
    "    # if coordinate == (7,3):\n",
    "    #     pass\n",
    "    \n",
    "     # Llamar recursivamente a la función flood para explorar las direcciones disponibles\n",
    "    for i in direction:\n",
    "        flood(img,(coordinate[0]+change[i][0],coordinate[1]+change[i][1]),mark+1,start)"
   ]
  },
  {
   "cell_type": "code",
   "execution_count": null,
   "metadata": {},
   "outputs": [],
   "source": [
    "# Haciendo una copia de la imagen original\n",
    "new_image = copy.deepcopy(norm_image)\n",
    "\n",
    "# Llamando a la función flood para encontrar el camino desde el punto de inicio hasta el punto final en la imagen\n",
    "flood(new_image, end, mark, start)"
   ]
  },
  {
   "cell_type": "code",
   "execution_count": null,
   "metadata": {},
   "outputs": [],
   "source": [
    "# Mostrar la imagen con todos los caminos trazados por el algoritmo\n",
    "plt.imshow(traced_path)"
   ]
  },
  {
   "cell_type": "code",
   "execution_count": null,
   "metadata": {},
   "outputs": [],
   "source": [
    "# Función para trazar el camino desde el punto de inicio hasta el punto final en la imagen\n",
    "def trace(img, coordinate, end, path):\n",
    "    # Si la coordenada actual es igual a la coordenada final, se devuelve el camino\n",
    "    if coordinate == end:\n",
    "        return path\n",
    "\n",
    "    dire = []\n",
    "    dirc = []\n",
    "    current = repm(img, coordinate)\n",
    "    direction = find_direction(current)\n",
    "\n",
    "    # Encuentra las direcciones disponibles desde la celda actual\n",
    "    for i in direction:\n",
    "        try:\n",
    "            # Si la celda actual ya ha sido visitada, \n",
    "            # no se considera para encontrar la dirección mínima disponible desde la celda actual\n",
    "            element=traced_path[coordinate[0]+change[i][0],coordinate[1]+change[i][1]]\n",
    "            if element==0:\n",
    "                continue\n",
    "            # Si la celda actual no ha sido visitada, \n",
    "            # se considera para encontrar la dirección mínima disponible desde la celda actual\n",
    "            if ((coordinate[0]+change[i][0]>=0)and(coordinate[1]+change[i][1]>=0)):\n",
    "                # Se almacena la dirección y el valor de la celda en la dirección en la lista dire y dirc\n",
    "                dire.append(element)\n",
    "                dirc.append(i)\n",
    "        except:\n",
    "            pass\n",
    "\n",
    "    # Encuentra la dirección mínima\n",
    "    mi = min(dire)\n",
    "    \n",
    "    # Encuentra el índice de la dirección mínima\n",
    "    ind = dire.index(mi)\n",
    "\n",
    "    # Agrega la coordenada actual a la lista de path (camino)\n",
    "    path.append((coordinate[0]+change[dirc[ind]][0],coordinate[1]+change[dirc[ind]][1]))\n",
    "\n",
    "    # Llamar recursivamente a la función trace para encontrar el camino desde el punto de inicio hasta el punto final en la imagen\n",
    "    return trace(img,(coordinate[0]+change[dirc[ind]][0],coordinate[1]+change[dirc[ind]][1]),end,path)"
   ]
  },
  {
   "cell_type": "code",
   "execution_count": null,
   "metadata": {},
   "outputs": [],
   "source": [
    "# Inicializamos el camino con el punto de inicio\n",
    "path = [start]\n",
    "\n",
    "# Haciendo una copia de la imagen original\n",
    "new_image = copy.deepcopy(norm_image)\n",
    "\n",
    "# Llamando a la función trace para trazar el camino desde el punto de inicio hasta el punto final en la imagen\n",
    "path = trace(new_image, start, end, path)"
   ]
  },
  {
   "cell_type": "code",
   "execution_count": null,
   "metadata": {},
   "outputs": [],
   "source": [
    "# Crear una copia de la imagen original\n",
    "img_path_show = copy.deepcopy(norm_image)\n",
    "\n",
    "# Marcar el camino trazado por el algoritmo en la imagen final del laberinto resuelto\n",
    "for i,j in enumerate(path):\n",
    "    # Agrega un fill de 5 para marcar el camino trazado por el algoritmo en la imagen final del laberinto resuelto\n",
    "    repm(img_path_show,j,5,True)\n",
    "    \n",
    "# Mostrar la imagen final del laberinto resuelto con el camino trazado por el algoritmo\n",
    "plt.imshow(img_path_show, interpolation='none')"
   ]
  }
 ],
 "metadata": {
  "kernelspec": {
   "display_name": "Python 3",
   "language": "python",
   "name": "python3"
  },
  "language_info": {
   "codemirror_mode": {
    "name": "ipython",
    "version": 3
   },
   "file_extension": ".py",
   "mimetype": "text/x-python",
   "name": "python",
   "nbconvert_exporter": "python",
   "pygments_lexer": "ipython3",
   "version": "3.10.12"
  },
  "orig_nbformat": 4
 },
 "nbformat": 4,
 "nbformat_minor": 2
}
