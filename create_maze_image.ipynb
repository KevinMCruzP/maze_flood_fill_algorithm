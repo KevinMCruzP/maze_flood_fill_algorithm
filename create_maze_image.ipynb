{
 "cells": [
  {
   "cell_type": "code",
   "execution_count": 1,
   "metadata": {},
   "outputs": [],
   "source": [
    "from df_maze import Maze\n",
    "\n",
    "# Maze dimensions (ncols, nrows)\n",
    "nx, ny = 10, 10\n",
    "# Maze entry position\n",
    "ix, iy = 0, 0\n",
    "\n",
    "maze = Maze(nx, ny, ix, iy)\n",
    "maze.make_maze()\n",
    "\n",
    "maze.write_svg('maze.svg')"
   ]
  },
  {
   "cell_type": "code",
   "execution_count": null,
   "metadata": {},
   "outputs": [],
   "source": [
    "# from PIL import Image\n",
    "# # Definir el tamaño de la imagen\n",
    "# image = Image.open('maze.jpg')\n",
    "# new_image = image.resize((200, 200))\n",
    "# new_image.save('maze01.jpg')"
   ]
  }
 ],
 "metadata": {
  "kernelspec": {
   "display_name": "Python 3",
   "language": "python",
   "name": "python3"
  },
  "language_info": {
   "codemirror_mode": {
    "name": "ipython",
    "version": 3
   },
   "file_extension": ".py",
   "mimetype": "text/x-python",
   "name": "python",
   "nbconvert_exporter": "python",
   "pygments_lexer": "ipython3",
   "version": "3.10.12"
  },
  "orig_nbformat": 4
 },
 "nbformat": 4,
 "nbformat_minor": 2
}
